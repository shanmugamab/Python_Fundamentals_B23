{
 "cells": [
  {
   "cell_type": "code",
   "execution_count": 21,
   "metadata": {},
   "outputs": [],
   "source": [
    "alien = {'color':'green','points':5,'start_position':0,'current_position':10}"
   ]
  },
  {
   "cell_type": "code",
   "execution_count": 22,
   "metadata": {},
   "outputs": [
    {
     "name": "stdout",
     "output_type": "stream",
     "text": [
      "{'color': 'green', 'points': 5, 'start_position': 0, 'current_position': 10}\n"
     ]
    }
   ],
   "source": [
    "print(alien)"
   ]
  },
  {
   "cell_type": "code",
   "execution_count": null,
   "metadata": {},
   "outputs": [],
   "source": []
  },
  {
   "cell_type": "code",
   "execution_count": 23,
   "metadata": {},
   "outputs": [],
   "source": [
    "alien ['color'] = 'yellow'"
   ]
  },
  {
   "cell_type": "code",
   "execution_count": 24,
   "metadata": {},
   "outputs": [],
   "source": [
    "alien ['points'] = 10"
   ]
  },
  {
   "cell_type": "code",
   "execution_count": 25,
   "metadata": {},
   "outputs": [
    {
     "name": "stdout",
     "output_type": "stream",
     "text": [
      "{'color': 'yellow', 'points': 10, 'start_position': 0, 'current_position': 10}\n"
     ]
    }
   ],
   "source": [
    "print(alien)"
   ]
  },
  {
   "cell_type": "code",
   "execution_count": 29,
   "metadata": {},
   "outputs": [],
   "source": [
    "del alien ['start_position']"
   ]
  },
  {
   "cell_type": "code",
   "execution_count": 30,
   "metadata": {},
   "outputs": [
    {
     "name": "stdout",
     "output_type": "stream",
     "text": [
      "{'color': 'yellow', 'points': 10, 'current_position': 10}\n"
     ]
    }
   ],
   "source": [
    "print (alien)"
   ]
  },
  {
   "cell_type": "code",
   "execution_count": 34,
   "metadata": {},
   "outputs": [
    {
     "name": "stdout",
     "output_type": "stream",
     "text": [
      "{'sures': 'perl', 'kishore': 'c', 'mamatha': 'python', 'deepan': 'java', 'pradeep': 'visual', 'siva': 'cobol'}\n"
     ]
    }
   ],
   "source": [
    "fav_language = {'sures':'perl','kishore':'c','mamatha':'python','deepan':'java','pradeep':'visual','siva':'cobol'}\n",
    "print(fav_language)"
   ]
  },
  {
   "cell_type": "code",
   "execution_count": 35,
   "metadata": {},
   "outputs": [
    {
     "name": "stdout",
     "output_type": "stream",
     "text": [
      "key: sures\n",
      "value: perl\n",
      "key: kishore\n",
      "value: c\n",
      "key: mamatha\n",
      "value: python\n",
      "key: deepan\n",
      "value: java\n",
      "key: pradeep\n",
      "value: visual\n",
      "key: siva\n",
      "value: cobol\n"
     ]
    }
   ],
   "source": [
    "for x,y in fav_language.items():\n",
    "    print(f\"key: {x}\")\n",
    "    print(f\"value: {y}\")\n",
    "          "
   ]
  },
  {
   "cell_type": "code",
   "execution_count": 36,
   "metadata": {},
   "outputs": [
    {
     "name": "stdout",
     "output_type": "stream",
     "text": [
      "key: sures\n",
      "value: perl\n",
      "\n",
      "key: kishore\n",
      "value: c\n",
      "\n",
      "key: mamatha\n",
      "value: python\n",
      "\n",
      "key: deepan\n",
      "value: java\n",
      "\n",
      "key: pradeep\n",
      "value: visual\n",
      "\n",
      "key: siva\n",
      "value: cobol\n",
      "\n"
     ]
    }
   ],
   "source": [
    "for x,y in fav_language.items():\n",
    "    print(f\"key: {x}\")\n",
    "    print(f\"value: {y}\\n\")\n",
    "          "
   ]
  },
  {
   "cell_type": "code",
   "execution_count": 37,
   "metadata": {},
   "outputs": [
    {
     "name": "stdout",
     "output_type": "stream",
     "text": [
      "\n",
      "studen: sures\n",
      "\n",
      "studen: kishore\n",
      "\n",
      "studen: mamatha\n",
      "\n",
      "studen: deepan\n",
      "\n",
      "studen: pradeep\n",
      "\n",
      "studen: siva\n"
     ]
    }
   ],
   "source": [
    "for x,y in fav_language.items():\n",
    "    print(f\"\\nstuden: {x}\")\n",
    "    \n",
    "          "
   ]
  },
  {
   "cell_type": "code",
   "execution_count": 38,
   "metadata": {},
   "outputs": [
    {
     "name": "stdout",
     "output_type": "stream",
     "text": [
      "\n",
      "choices: perl\n",
      "\n",
      "choices: c\n",
      "\n",
      "choices: python\n",
      "\n",
      "choices: java\n",
      "\n",
      "choices: visual\n",
      "\n",
      "choices: cobol\n"
     ]
    }
   ],
   "source": [
    "for x,y in fav_language.items():\n",
    "    print(f\"\\nchoices: {y}\")\n",
    "   \n",
    "          "
   ]
  },
  {
   "cell_type": "code",
   "execution_count": null,
   "metadata": {},
   "outputs": [],
   "source": []
  }
 ],
 "metadata": {
  "kernelspec": {
   "display_name": "Python 3",
   "language": "python",
   "name": "python3"
  },
  "language_info": {
   "codemirror_mode": {
    "name": "ipython",
    "version": 3
   },
   "file_extension": ".py",
   "mimetype": "text/x-python",
   "name": "python",
   "nbconvert_exporter": "python",
   "pygments_lexer": "ipython3",
   "version": "3.7.6"
  }
 },
 "nbformat": 4,
 "nbformat_minor": 4
}
